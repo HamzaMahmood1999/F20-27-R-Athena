{
  "nbformat": 4,
  "nbformat_minor": 0,
  "metadata": {
    "kernelspec": {
      "display_name": "Python 2",
      "language": "python",
      "name": "python2"
    },
    "language_info": {
      "codemirror_mode": {
        "name": "ipython",
        "version": 2
      },
      "file_extension": ".py",
      "mimetype": "text/x-python",
      "name": "python",
      "nbconvert_exporter": "python",
      "pygments_lexer": "ipython2",
      "version": "2.7.10"
    },
    "colab": {
      "name": "NER",
      "provenance": [],
      "collapsed_sections": [],
      "toc_visible": true
    },
    "accelerator": "TPU",
    "widgets": {
      "application/vnd.jupyter.widget-state+json": {
        "bca62821b0c143729e4d67ce8f45d915": {
          "model_module": "@jupyter-widgets/controls",
          "model_name": "VBoxModel",
          "state": {
            "_view_name": "VBoxView",
            "_dom_classes": [
              "widget-interact"
            ],
            "_model_name": "VBoxModel",
            "_view_module": "@jupyter-widgets/controls",
            "_model_module_version": "1.5.0",
            "_view_count": null,
            "_view_module_version": "1.5.0",
            "box_style": "",
            "layout": "IPY_MODEL_949809761aed41f19de9a6621321b808",
            "_model_module": "@jupyter-widgets/controls",
            "children": [
              "IPY_MODEL_8a94014437e94517822f33e6ae157e41",
              "IPY_MODEL_2861c6025e8d49eda0cfb1db9ae8081c",
              "IPY_MODEL_3c371cbe921c4a59af1fa94b166a0298"
            ]
          }
        },
        "949809761aed41f19de9a6621321b808": {
          "model_module": "@jupyter-widgets/base",
          "model_name": "LayoutModel",
          "state": {
            "_view_name": "LayoutView",
            "grid_template_rows": null,
            "right": null,
            "justify_content": null,
            "_view_module": "@jupyter-widgets/base",
            "_model_module_version": "1.2.0",
            "_view_count": null,
            "flex_flow": null,
            "min_width": null,
            "border": null,
            "align_items": null,
            "bottom": null,
            "_model_module": "@jupyter-widgets/base",
            "top": null,
            "grid_column": null,
            "width": null,
            "overflow_x": null,
            "grid_auto_flow": null,
            "grid_area": null,
            "grid_template_columns": null,
            "flex": null,
            "_model_name": "LayoutModel",
            "justify_items": null,
            "grid_row": null,
            "max_height": null,
            "align_content": null,
            "visibility": null,
            "overflow": null,
            "height": null,
            "min_height": null,
            "padding": null,
            "grid_auto_rows": null,
            "grid_gap": null,
            "overflow_y": null,
            "max_width": null,
            "order": null,
            "_view_module_version": "1.2.0",
            "align_self": null,
            "grid_template_areas": null,
            "object_position": null,
            "object_fit": null,
            "grid_auto_columns": null,
            "margin": null,
            "display": null,
            "left": null
          }
        },
        "8a94014437e94517822f33e6ae157e41": {
          "model_module": "@jupyter-widgets/controls",
          "model_name": "TextareaModel",
          "state": {
            "_view_name": "TextareaView",
            "style": "IPY_MODEL_b16c29d0ebbf4b428c3fc524eeb4d633",
            "rows": null,
            "layout": "IPY_MODEL_221d9c2f00ba46a588d3720214f09134",
            "description": "sentence",
            "_model_name": "TextareaModel",
            "_model_module": "@jupyter-widgets/controls",
            "_view_module": "@jupyter-widgets/controls",
            "_model_module_version": "1.5.0",
            "value": "PTCL is a prime player in Pakistan when it comes to providing the best services",
            "_view_count": null,
            "disabled": false,
            "_view_module_version": "1.5.0",
            "continuous_update": true,
            "description_tooltip": null,
            "_dom_classes": [],
            "placeholder": "Type your sentence here"
          }
        },
        "2861c6025e8d49eda0cfb1db9ae8081c": {
          "model_module": "@jupyter-widgets/controls",
          "model_name": "ButtonModel",
          "state": {
            "_view_name": "ButtonView",
            "style": "IPY_MODEL_ae2fab1ac08f49a1bdfb46faf47eecd4",
            "layout": "IPY_MODEL_f80dfb662b494b8cb75f2c10c61b678d",
            "description": "Run Interact",
            "_model_name": "ButtonModel",
            "button_style": "",
            "_view_module": "@jupyter-widgets/controls",
            "_model_module_version": "1.5.0",
            "tooltip": "",
            "_view_count": null,
            "disabled": false,
            "_view_module_version": "1.5.0",
            "_dom_classes": [],
            "_model_module": "@jupyter-widgets/controls",
            "icon": ""
          }
        },
        "3c371cbe921c4a59af1fa94b166a0298": {
          "model_module": "@jupyter-widgets/output",
          "model_name": "OutputModel",
          "state": {
            "_view_name": "OutputView",
            "_view_module": "@jupyter-widgets/output",
            "_dom_classes": [],
            "_model_name": "OutputModel",
            "outputs": [
              {
                "output_type": "stream",
                "metadata": {
                  "tags": []
                },
                "text": "Word           ||Prediction\n==============================\nPTCL           : B-org\nis             : O    \na              : O    \nprime          : O    \nplayer         : O    \nin             : O    \nPakistan       : B-geo\nwhen           : O    \nit             : O    \ncomes          : O    \nto             : O    \nproviding      : O    \nthe            : O    \nbest           : O    \nservices       : O    \n",
                "stream": "stdout"
              }
            ],
            "msg_id": "",
            "_model_module_version": "1.0.0",
            "_view_count": null,
            "_view_module_version": "1.0.0",
            "layout": "IPY_MODEL_814432bea9004df2854cc7960bc91ef5",
            "_model_module": "@jupyter-widgets/output"
          }
        },
        "b16c29d0ebbf4b428c3fc524eeb4d633": {
          "model_module": "@jupyter-widgets/controls",
          "model_name": "DescriptionStyleModel",
          "state": {
            "_view_name": "StyleView",
            "_model_name": "DescriptionStyleModel",
            "description_width": "",
            "_view_module": "@jupyter-widgets/base",
            "_model_module_version": "1.5.0",
            "_view_count": null,
            "_view_module_version": "1.2.0",
            "_model_module": "@jupyter-widgets/controls"
          }
        },
        "221d9c2f00ba46a588d3720214f09134": {
          "model_module": "@jupyter-widgets/base",
          "model_name": "LayoutModel",
          "state": {
            "_view_name": "LayoutView",
            "grid_template_rows": null,
            "right": null,
            "justify_content": null,
            "_view_module": "@jupyter-widgets/base",
            "_model_module_version": "1.2.0",
            "_view_count": null,
            "flex_flow": null,
            "min_width": null,
            "border": null,
            "align_items": null,
            "bottom": null,
            "_model_module": "@jupyter-widgets/base",
            "top": null,
            "grid_column": null,
            "width": null,
            "overflow_x": null,
            "grid_auto_flow": null,
            "grid_area": null,
            "grid_template_columns": null,
            "flex": null,
            "_model_name": "LayoutModel",
            "justify_items": null,
            "grid_row": null,
            "max_height": null,
            "align_content": null,
            "visibility": null,
            "overflow": null,
            "height": null,
            "min_height": null,
            "padding": null,
            "grid_auto_rows": null,
            "grid_gap": null,
            "overflow_y": null,
            "max_width": null,
            "order": null,
            "_view_module_version": "1.2.0",
            "align_self": null,
            "grid_template_areas": null,
            "object_position": null,
            "object_fit": null,
            "grid_auto_columns": null,
            "margin": null,
            "display": null,
            "left": null
          }
        },
        "ae2fab1ac08f49a1bdfb46faf47eecd4": {
          "model_module": "@jupyter-widgets/controls",
          "model_name": "ButtonStyleModel",
          "state": {
            "_view_name": "StyleView",
            "_model_name": "ButtonStyleModel",
            "_view_module": "@jupyter-widgets/base",
            "_model_module_version": "1.5.0",
            "_view_count": null,
            "button_color": null,
            "font_weight": "",
            "_view_module_version": "1.2.0",
            "_model_module": "@jupyter-widgets/controls"
          }
        },
        "f80dfb662b494b8cb75f2c10c61b678d": {
          "model_module": "@jupyter-widgets/base",
          "model_name": "LayoutModel",
          "state": {
            "_view_name": "LayoutView",
            "grid_template_rows": null,
            "right": null,
            "justify_content": null,
            "_view_module": "@jupyter-widgets/base",
            "_model_module_version": "1.2.0",
            "_view_count": null,
            "flex_flow": null,
            "min_width": null,
            "border": null,
            "align_items": null,
            "bottom": null,
            "_model_module": "@jupyter-widgets/base",
            "top": null,
            "grid_column": null,
            "width": null,
            "overflow_x": null,
            "grid_auto_flow": null,
            "grid_area": null,
            "grid_template_columns": null,
            "flex": null,
            "_model_name": "LayoutModel",
            "justify_items": null,
            "grid_row": null,
            "max_height": null,
            "align_content": null,
            "visibility": null,
            "overflow": null,
            "height": null,
            "min_height": null,
            "padding": null,
            "grid_auto_rows": null,
            "grid_gap": null,
            "overflow_y": null,
            "max_width": null,
            "order": null,
            "_view_module_version": "1.2.0",
            "align_self": null,
            "grid_template_areas": null,
            "object_position": null,
            "object_fit": null,
            "grid_auto_columns": null,
            "margin": null,
            "display": null,
            "left": null
          }
        },
        "814432bea9004df2854cc7960bc91ef5": {
          "model_module": "@jupyter-widgets/base",
          "model_name": "LayoutModel",
          "state": {
            "_view_name": "LayoutView",
            "grid_template_rows": null,
            "right": null,
            "justify_content": null,
            "_view_module": "@jupyter-widgets/base",
            "_model_module_version": "1.2.0",
            "_view_count": null,
            "flex_flow": null,
            "min_width": null,
            "border": null,
            "align_items": null,
            "bottom": null,
            "_model_module": "@jupyter-widgets/base",
            "top": null,
            "grid_column": null,
            "width": null,
            "overflow_x": null,
            "grid_auto_flow": null,
            "grid_area": null,
            "grid_template_columns": null,
            "flex": null,
            "_model_name": "LayoutModel",
            "justify_items": null,
            "grid_row": null,
            "max_height": null,
            "align_content": null,
            "visibility": null,
            "overflow": null,
            "height": null,
            "min_height": null,
            "padding": null,
            "grid_auto_rows": null,
            "grid_gap": null,
            "overflow_y": null,
            "max_width": null,
            "order": null,
            "_view_module_version": "1.2.0",
            "align_self": null,
            "grid_template_areas": null,
            "object_position": null,
            "object_fit": null,
            "grid_auto_columns": null,
            "margin": null,
            "display": null,
            "left": null
          }
        }
      }
    }
  },
  "cells": [
    {
      "cell_type": "markdown",
      "metadata": {
        "id": "QB2IpS8Xktxd"
      },
      "source": [
        "# Named Entity Recognition\n",
        "\n",
        "\n",
        "### importing packages and libraries"
      ]
    },
    {
      "cell_type": "code",
      "metadata": {
        "colab": {
          "base_uri": "https://localhost:8080/"
        },
        "id": "jpzdpZ84ktxj",
        "outputId": "d921aa4d-d48c-4684-95bc-7e94b8a9ac77"
      },
      "source": [
        "# Install extra-dependencies\n",
        "! pip -q install git+https://www.github.com/keras-team/keras-contrib.git sklearn-crfsuite"
      ],
      "execution_count": 2,
      "outputs": [
        {
          "output_type": "stream",
          "text": [
            "  Building wheel for keras-contrib (setup.py) ... \u001b[?25l\u001b[?25hdone\n"
          ],
          "name": "stdout"
        }
      ]
    },
    {
      "cell_type": "code",
      "metadata": {
        "colab": {
          "base_uri": "https://localhost:8080/"
        },
        "id": "WS24sBR1ktxj",
        "outputId": "556558b0-0d43-4e09-9a5d-5ff72faad430"
      },
      "source": [
        "import tensorflow as tf\n",
        "import keras\n",
        "import pandas as pd\n",
        "import numpy as np\n",
        "import matplotlib.pyplot as plt\n",
        "import pickle\n",
        "from sklearn_crfsuite.metrics import flat_classification_report\n",
        "from keras.preprocessing.sequence import pad_sequences\n",
        "from keras.utils import to_categorical\n",
        "from sklearn.model_selection import train_test_split\n",
        "from keras.models import Model, Input\n",
        "from keras.layers import LSTM, Embedding, Dense, TimeDistributed, Dropout, Bidirectional\n",
        "from keras_contrib.layers import CRF\n",
        "from ipywidgets import interact_manual\n",
        "from ipywidgets import widgets\n",
        "from nltk.tokenize import RegexpTokenizer\n",
        "import re\n",
        "import string"
      ],
      "execution_count": 3,
      "outputs": [
        {
          "output_type": "stream",
          "text": [
            "Using TensorFlow backend.\n"
          ],
          "name": "stderr"
        }
      ]
    },
    {
      "cell_type": "markdown",
      "metadata": {
        "id": "Ez0097guktxk"
      },
      "source": [
        "## Training Parameters\n"
      ]
    },
    {
      "cell_type": "code",
      "metadata": {
        "id": "HuO_9Z7Pktxk"
      },
      "source": [
        "# Hyperparams for CPU training\n",
        "BATCH_SIZE = 32\n",
        "EPOCHS = 7\n",
        "MAX_LEN = 75\n",
        "EMBEDDING = 20\n",
        "\n",
        "# # Hyperparams for GPU training\n",
        "# BATCH_SIZE = 512  # Number of samples used at each iteration\n",
        "# EPOCHS = 7 \n",
        "# MAX_LEN = 75 \n",
        "# EMBEDDING = 40  # Size of dimension of word embedding vector"
      ],
      "execution_count": 4,
      "outputs": []
    },
    {
      "cell_type": "markdown",
      "metadata": {
        "id": "cyw5N8dhktxl"
      },
      "source": [
        "## Dataset"
      ]
    },
    {
      "cell_type": "code",
      "metadata": {
        "colab": {
          "base_uri": "https://localhost:8080/",
          "height": 447
        },
        "id": "sc3_kFJ_ktxl",
        "outputId": "68594e94-cde2-4dde-9efa-48a2885b62b9"
      },
      "source": [
        "data = pd.read_csv(\"/content/ner_dataset.csv\", encoding=\"latin1\")\n",
        "data = data.fillna(method=\"ffill\") #to fill Null/Nan values\n",
        "\n",
        "print(\"Number of sentences: \", len(data.groupby(['Sentence #'])))\n",
        "\n",
        "words = list(set(data[\"Word\"].values))\n",
        "num_words = len(words)\n",
        "tags = list(set(data[\"Tag\"].values))\n",
        "num_tags = len(tags)\n",
        "\n",
        "\n",
        "print(\"Number of words in the dataset: \", num_words)\n",
        "print(\"Tags:\", tags)\n",
        "print(\"Number of Labels: \", num_tags)\n",
        "print(\"What the dataset looks like:\")\n",
        "# Show the first 10 rows\n",
        "data.head(n=10) "
      ],
      "execution_count": 5,
      "outputs": [
        {
          "output_type": "stream",
          "text": [
            "('Number of sentences: ', 47959)\n",
            "('Number of words in the dataset: ', 35176)\n",
            "('Tags:', [u'I-art', u'B-gpe', u'B-art', u'I-per', u'I-tim', u'B-org', u'O', u'B-geo', u'B-tim', u'I-geo', u'B-per', u'I-eve', u'B-eve', u'I-gpe', u'I-org', u'I-nat', u'B-nat'])\n",
            "('Number of Labels: ', 17)\n",
            "What the dataset looks like:\n"
          ],
          "name": "stdout"
        },
        {
          "output_type": "execute_result",
          "data": {
            "text/plain": [
              "    Sentence #           Word  POS    Tag\n",
              "0  Sentence: 1      Thousands  NNS      O\n",
              "1  Sentence: 1             of   IN      O\n",
              "2  Sentence: 1  demonstrators  NNS      O\n",
              "3  Sentence: 1           have  VBP      O\n",
              "4  Sentence: 1        marched  VBN      O\n",
              "5  Sentence: 1        through   IN      O\n",
              "6  Sentence: 1         London  NNP  B-geo\n",
              "7  Sentence: 1             to   TO      O\n",
              "8  Sentence: 1        protest   VB      O\n",
              "9  Sentence: 1            the   DT      O"
            ],
            "text/html": [
              "<div>\n",
              "<style scoped>\n",
              "    .dataframe tbody tr th:only-of-type {\n",
              "        vertical-align: middle;\n",
              "    }\n",
              "\n",
              "    .dataframe tbody tr th {\n",
              "        vertical-align: top;\n",
              "    }\n",
              "\n",
              "    .dataframe thead th {\n",
              "        text-align: right;\n",
              "    }\n",
              "</style>\n",
              "<table border=\"1\" class=\"dataframe\">\n",
              "  <thead>\n",
              "    <tr style=\"text-align: right;\">\n",
              "      <th></th>\n",
              "      <th>Sentence #</th>\n",
              "      <th>Word</th>\n",
              "      <th>POS</th>\n",
              "      <th>Tag</th>\n",
              "    </tr>\n",
              "  </thead>\n",
              "  <tbody>\n",
              "    <tr>\n",
              "      <th>0</th>\n",
              "      <td>Sentence: 1</td>\n",
              "      <td>Thousands</td>\n",
              "      <td>NNS</td>\n",
              "      <td>O</td>\n",
              "    </tr>\n",
              "    <tr>\n",
              "      <th>1</th>\n",
              "      <td>Sentence: 1</td>\n",
              "      <td>of</td>\n",
              "      <td>IN</td>\n",
              "      <td>O</td>\n",
              "    </tr>\n",
              "    <tr>\n",
              "      <th>2</th>\n",
              "      <td>Sentence: 1</td>\n",
              "      <td>demonstrators</td>\n",
              "      <td>NNS</td>\n",
              "      <td>O</td>\n",
              "    </tr>\n",
              "    <tr>\n",
              "      <th>3</th>\n",
              "      <td>Sentence: 1</td>\n",
              "      <td>have</td>\n",
              "      <td>VBP</td>\n",
              "      <td>O</td>\n",
              "    </tr>\n",
              "    <tr>\n",
              "      <th>4</th>\n",
              "      <td>Sentence: 1</td>\n",
              "      <td>marched</td>\n",
              "      <td>VBN</td>\n",
              "      <td>O</td>\n",
              "    </tr>\n",
              "    <tr>\n",
              "      <th>5</th>\n",
              "      <td>Sentence: 1</td>\n",
              "      <td>through</td>\n",
              "      <td>IN</td>\n",
              "      <td>O</td>\n",
              "    </tr>\n",
              "    <tr>\n",
              "      <th>6</th>\n",
              "      <td>Sentence: 1</td>\n",
              "      <td>London</td>\n",
              "      <td>NNP</td>\n",
              "      <td>B-geo</td>\n",
              "    </tr>\n",
              "    <tr>\n",
              "      <th>7</th>\n",
              "      <td>Sentence: 1</td>\n",
              "      <td>to</td>\n",
              "      <td>TO</td>\n",
              "      <td>O</td>\n",
              "    </tr>\n",
              "    <tr>\n",
              "      <th>8</th>\n",
              "      <td>Sentence: 1</td>\n",
              "      <td>protest</td>\n",
              "      <td>VB</td>\n",
              "      <td>O</td>\n",
              "    </tr>\n",
              "    <tr>\n",
              "      <th>9</th>\n",
              "      <td>Sentence: 1</td>\n",
              "      <td>the</td>\n",
              "      <td>DT</td>\n",
              "      <td>O</td>\n",
              "    </tr>\n",
              "  </tbody>\n",
              "</table>\n",
              "</div>"
            ]
          },
          "metadata": {
            "tags": []
          },
          "execution_count": 5
        }
      ]
    },
    {
      "cell_type": "code",
      "metadata": {
        "colab": {
          "base_uri": "https://localhost:8080/"
        },
        "id": "G78Uw-lhktxl",
        "outputId": "91c674ec-e406-4a3d-ec66-04e0543d6eac"
      },
      "source": [
        "class Get_Sentence(object):\n",
        "    \"\"\"Class to Get the sentence in this format:\n",
        "    [(Token_1, Part_of_Speech_1, Tag_1), ..., (Token_n, Part_of_Speech_1, Tag_1)]\"\"\"\n",
        "    def __init__(self, data):\n",
        "        \"\"\"Args:\n",
        "            data is the pandas.DataFrame which contains the above dataset\"\"\"\n",
        "        self.n_sent = 1\n",
        "        self.data = data\n",
        "        self.empty = False\n",
        "        agg_func = lambda s: [(w, p, t) for w, p, t in zip(s[\"Word\"].values.tolist(),\n",
        "                                                           s[\"POS\"].values.tolist(),\n",
        "                                                           s[\"Tag\"].values.tolist())]\n",
        "        self.grouped = self.data.groupby(\"Sentence #\").apply(agg_func)\n",
        "        self.sentences = [s for s in self.grouped]\n",
        "    \n",
        "    def get_sent(self):\n",
        "        \"\"\"Return one sentence\"\"\"\n",
        "        try:\n",
        "            s = self.grouped[\"Sentence: {}\".format(self.n_sent)]\n",
        "            self.n_sent += 1\n",
        "            return s\n",
        "        except:\n",
        "            return None\n",
        "        \n",
        "getter = Get_Sentence(data)\n",
        "sent = getter.get_sent()\n",
        "print('This is what a sentence looks like:')\n",
        "print(sent)"
      ],
      "execution_count": 6,
      "outputs": [
        {
          "output_type": "stream",
          "text": [
            "This is what a sentence looks like:\n",
            "[(u'Thousands', u'NNS', u'O'), (u'of', u'IN', u'O'), (u'demonstrators', u'NNS', u'O'), (u'have', u'VBP', u'O'), (u'marched', u'VBN', u'O'), (u'through', u'IN', u'O'), (u'London', u'NNP', u'B-geo'), (u'to', u'TO', u'O'), (u'protest', u'VB', u'O'), (u'the', u'DT', u'O'), (u'war', u'NN', u'O'), (u'in', u'IN', u'O'), (u'Iraq', u'NNP', u'B-geo'), (u'and', u'CC', u'O'), (u'demand', u'VB', u'O'), (u'the', u'DT', u'O'), (u'withdrawal', u'NN', u'O'), (u'of', u'IN', u'O'), (u'British', u'JJ', u'B-gpe'), (u'troops', u'NNS', u'O'), (u'from', u'IN', u'O'), (u'that', u'DT', u'O'), (u'country', u'NN', u'O'), (u'.', u'.', u'O')]\n"
          ],
          "name": "stdout"
        }
      ]
    },
    {
      "cell_type": "code",
      "metadata": {
        "colab": {
          "base_uri": "https://localhost:8080/",
          "height": 295
        },
        "id": "x38LshUCktxm",
        "outputId": "dc822fc1-7d9c-4ed2-ce60-5c0ae9e02676"
      },
      "source": [
        "# Get all the sentences\n",
        "sentences = getter.sentences\n",
        "\n",
        "# Plot sentence by lenght\n",
        "plt.hist([len(s) for s in sentences], bins=50)\n",
        "plt.title('Token per sentence')\n",
        "plt.xlabel('Len (number of token)')\n",
        "plt.ylabel('# samples')\n",
        "plt.show()"
      ],
      "execution_count": 7,
      "outputs": [
        {
          "output_type": "display_data",
          "data": {
            "image/png": "[encoded data removed]",
            "text/plain": [
              "<Figure size 432x288 with 1 Axes>"
            ]
          },
          "metadata": {
            "tags": [],
            "needs_background": "light"
          }
        }
      ]
    },
    {
      "cell_type": "markdown",
      "metadata": {
        "id": "7QbG_zBXktxm"
      },
      "source": [
        "## Preprocessing Data\n"
      ]
    },
    {
      "cell_type": "code",
      "metadata": {
        "colab": {
          "base_uri": "https://localhost:8080/"
        },
        "id": "w_OaYdeOktxm",
        "outputId": "3b15c884-d9f5-44d9-f345-03b7d719d186"
      },
      "source": [
        "# Vocabulary Key:word -> Value:token_index\n",
        "# The first 2 entries are reserved for PAD and UNK\n",
        "word2idx = {w: i + 2 for i, w in enumerate(words)}\n",
        "word2idx[\"UNK\"] = 1 # Unknown words\n",
        "word2idx[\"PAD\"] = 0 # Padding\n",
        "\n",
        "# Vocabulary Key:token_index -> Value:word\n",
        "idx2word = {i: w for w, i in word2idx.items()}\n",
        "\n",
        "# Vocabulary Key:Label/Tag -> Value:tag_index\n",
        "# The first entry is reserved for PAD\n",
        "tag2idx = {t: i+1 for i, t in enumerate(tags)}\n",
        "tag2idx[\"PAD\"] = 0\n",
        "\n",
        "# Vocabulary Key:tag_index -> Value:Label/Tag\n",
        "idx2tag = {i: w for w, i in tag2idx.items()}\n",
        "\n",
        "\n",
        "# Convert each sentence from list of Token to list of word_index\n",
        "X = [[word2idx[w[0]] for w in s] for s in sentences]\n",
        "# Padding each sentence to have the same lenght\n",
        "X = pad_sequences(maxlen=MAX_LEN, sequences=X, padding=\"post\", value=word2idx[\"PAD\"])\n",
        "\n",
        "# Convert Tag/Label to tag_index\n",
        "y = [[tag2idx[w[2]] for w in s] for s in sentences]\n",
        "# Padding each sentence to have the same lenght\n",
        "y = pad_sequences(maxlen=MAX_LEN, sequences=y, padding=\"post\", value=tag2idx[\"PAD\"])\n",
        "\n",
        "\n",
        "# One-Hot encode\n",
        "y = [to_categorical(i, num_classes=num_tags+1) for i in y]  # n_tags+1(PAD)\n",
        "\n",
        "X_train, X_test, y_train, y_test = train_test_split(X, y, test_size=0.1)\n",
        "X_train.shape, X_test.shape, np.array(y_train).shape, np.array(y_test).shape\n"
      ],
      "execution_count": 8,
      "outputs": [
        {
          "output_type": "execute_result",
          "data": {
            "text/plain": [
              "((43163, 75), (4796, 75), (43163, 75, 18), (4796, 75, 18))"
            ]
          },
          "metadata": {
            "tags": []
          },
          "execution_count": 8
        }
      ]
    },
    {
      "cell_type": "markdown",
      "metadata": {
        "id": "OSL7rPAVktxn"
      },
      "source": [
        "## Model\n"
      ]
    },
    {
      "cell_type": "code",
      "metadata": {
        "colab": {
          "base_uri": "https://localhost:8080/"
        },
        "id": "hV3HfPRNktxn",
        "outputId": "05270dda-19dd-4fe7-b00e-48c987ecf164"
      },
      "source": [
        "\n",
        "# Model definition\n",
        "input = Input(shape=(MAX_LEN,))\n",
        "model = Embedding(input_dim=num_words+2, output_dim=EMBEDDING, # n_words + 2 (PAD & UNK)\n",
        "                  input_length=MAX_LEN)(input)  \n",
        "model = Bidirectional(LSTM(units=50, return_sequences=True,\n",
        "                           recurrent_dropout=0.1))(model)  \n",
        "model = TimeDistributed(Dense(50, activation=\"tanh\"))(model)  \n",
        "crf = CRF(num_tags+1)  # CRF layer, n_tags+1(PAD)\n",
        "output = crf(model)  # output\n",
        "\n",
        "model = Model(input, output)\n",
        "model.compile(optimizer=\"adam\", loss=crf.loss_function, metrics=[crf.accuracy])\n",
        "\n",
        "model.summary()"
      ],
      "execution_count": 9,
      "outputs": [
        {
          "output_type": "stream",
          "text": [
            "/usr/local/lib/python2.7/dist-packages/keras_contrib/layers/crf.py:346: UserWarning: CRF.loss_function is deprecated and it might be removed in the future. Please use losses.crf_loss instead.\n",
            "  warnings.warn('CRF.loss_function is deprecated '\n",
            "/usr/local/lib/python2.7/dist-packages/keras_contrib/layers/crf.py:353: UserWarning: CRF.accuracy is deprecated and it might be removed in the future. Please use metrics.crf_accuracy\n",
            "  warnings.warn('CRF.accuracy is deprecated and it '\n"
          ],
          "name": "stderr"
        },
        {
          "output_type": "stream",
          "text": [
            "Model: \"model_1\"\n",
            "_________________________________________________________________\n",
            "Layer (type)                 Output Shape              Param #   \n",
            "=================================================================\n",
            "input_1 (InputLayer)         (None, 75)                0         \n",
            "_________________________________________________________________\n",
            "embedding_1 (Embedding)      (None, 75, 20)            703560    \n",
            "_________________________________________________________________\n",
            "bidirectional_1 (Bidirection (None, 75, 100)           28400     \n",
            "_________________________________________________________________\n",
            "time_distributed_1 (TimeDist (None, 75, 50)            5050      \n",
            "_________________________________________________________________\n",
            "crf_1 (CRF)                  (None, 75, 18)            1278      \n",
            "=================================================================\n",
            "Total params: 738,288\n",
            "Trainable params: 738,288\n",
            "Non-trainable params: 0\n",
            "_________________________________________________________________\n"
          ],
          "name": "stdout"
        }
      ]
    },
    {
      "cell_type": "markdown",
      "metadata": {
        "id": "vh3pBlfMktxn"
      },
      "source": [
        "## Training & Evaluation\n",
        "\n"
      ]
    },
    {
      "cell_type": "code",
      "metadata": {
        "colab": {
          "base_uri": "https://localhost:8080/"
        },
        "id": "TTAigCOLktxo",
        "outputId": "c04c9fdc-99d8-4784-98eb-f6332fc60001"
      },
      "source": [
        "history = model.fit(X_train, np.array(y_train), batch_size=BATCH_SIZE, epochs=EPOCHS,\n",
        "                    validation_split=0.1, verbose=2)"
      ],
      "execution_count": 11,
      "outputs": [
        {
          "output_type": "stream",
          "text": [
            "/usr/local/lib/python2.7/dist-packages/tensorflow_core/python/framework/indexed_slices.py:433: UserWarning: Converting sparse IndexedSlices to a dense Tensor of unknown shape. This may consume a large amount of memory.\n",
            "  \"Converting sparse IndexedSlices to a dense Tensor of unknown shape. \"\n"
          ],
          "name": "stderr"
        },
        {
          "output_type": "stream",
          "text": [
            "Train on 38846 samples, validate on 4317 samples\n",
            "Epoch 1/7\n",
            " - 150s - loss: 0.1766 - crf_viterbi_accuracy: 0.9537 - val_loss: 0.0464 - val_crf_viterbi_accuracy: 0.9857\n",
            "Epoch 2/7\n",
            " - 148s - loss: 0.0307 - crf_viterbi_accuracy: 0.9891 - val_loss: 0.0235 - val_crf_viterbi_accuracy: 0.9895\n",
            "Epoch 3/7\n",
            " - 150s - loss: 0.0121 - crf_viterbi_accuracy: 0.9920 - val_loss: 0.0111 - val_crf_viterbi_accuracy: 0.9902\n",
            "Epoch 4/7\n",
            " - 150s - loss: -2.7892e-03 - crf_viterbi_accuracy: 0.9931 - val_loss: -3.0264e-03 - val_crf_viterbi_accuracy: 0.9906\n",
            "Epoch 5/7\n",
            " - 150s - loss: -1.9216e-02 - crf_viterbi_accuracy: 0.9939 - val_loss: -1.7877e-02 - val_crf_viterbi_accuracy: 0.9902\n",
            "Epoch 6/7\n",
            " - 150s - loss: -3.6608e-02 - crf_viterbi_accuracy: 0.9945 - val_loss: -3.3736e-02 - val_crf_viterbi_accuracy: 0.9903\n",
            "Epoch 7/7\n",
            " - 151s - loss: -5.4247e-02 - crf_viterbi_accuracy: 0.9952 - val_loss: -4.8571e-02 - val_crf_viterbi_accuracy: 0.9901\n"
          ],
          "name": "stdout"
        }
      ]
    },
    {
      "cell_type": "code",
      "metadata": {
        "id": "UeB-M1XBktxo"
      },
      "source": [
        "# Evaluate\n",
        "pred_cat = model.predict(X_test)\n",
        "pred = np.argmax(pred_cat, axis=-1)\n",
        "y_test_true = np.argmax(y_test, -1)"
      ],
      "execution_count": 12,
      "outputs": []
    },
    {
      "cell_type": "code",
      "metadata": {
        "colab": {
          "base_uri": "https://localhost:8080/"
        },
        "id": "Sbd1qyXGktxo",
        "outputId": "35375a6c-ccfe-417b-9fef-059837d2304d"
      },
      "source": [
        "# Convert the index to tag\n",
        "pred_tag = [[idx2tag[i] for i in row] for row in pred]\n",
        "y_test_true_tag = [[idx2tag[i] for i in row] for row in y_test_true] \n",
        "\n",
        "report = flat_classification_report(y_pred=pred_tag, y_true=y_test_true_tag)\n",
        "print(report)"
      ],
      "execution_count": 13,
      "outputs": [
        {
          "output_type": "stream",
          "text": [
            "              precision    recall  f1-score   support\n",
            "\n",
            "       B-art       0.27      0.08      0.13        36\n",
            "       B-eve       0.33      0.21      0.26        24\n",
            "       B-geo       0.87      0.87      0.87      3801\n",
            "       B-gpe       0.97      0.94      0.95      1664\n",
            "       B-nat       0.35      0.33      0.34        18\n",
            "       B-org       0.74      0.73      0.73      1996\n",
            "       B-per       0.85      0.77      0.81      1657\n",
            "       B-tim       0.91      0.88      0.89      1999\n",
            "       I-art       0.31      0.12      0.17        34\n",
            "       I-eve       0.42      0.40      0.41        20\n",
            "       I-geo       0.81      0.79      0.80       776\n",
            "       I-gpe       0.91      0.48      0.62        21\n",
            "       I-nat       0.50      0.40      0.44         5\n",
            "       I-org       0.79      0.72      0.76      1694\n",
            "       I-per       0.87      0.82      0.85      1634\n",
            "       I-tim       0.79      0.78      0.78       668\n",
            "           O       0.99      0.99      0.99     89179\n",
            "         PAD       1.00      1.00      1.00    254474\n",
            "\n",
            "   micro avg       0.99      0.99      0.99    359700\n",
            "   macro avg       0.70      0.63      0.66    359700\n",
            "weighted avg       0.99      0.99      0.99    359700\n",
            "\n"
          ],
          "name": "stdout"
        }
      ]
    },
    {
      "cell_type": "markdown",
      "metadata": {
        "id": "QzTxJqdsktxo"
      },
      "source": [
        "Test some of the samples in the test set. It will test on a different sample at each execution."
      ]
    },
    {
      "cell_type": "code",
      "metadata": {
        "colab": {
          "base_uri": "https://localhost:8080/"
        },
        "id": "3GrM7G9bktxp",
        "outputId": "1488ba0e-85ef-4b4c-b415-608d0e439615"
      },
      "source": [
        "i = np.random.randint(0,X_test.shape[0]) # choose a random number between 0 and len(X_te)\n",
        "p = model.predict(np.array([X_test[i]]))\n",
        "p = np.argmax(p, axis=-1)\n",
        "true = np.argmax(y_test[i], -1)\n",
        "\n",
        "print(\"Sample number {} of {} (Test Set)\".format(i, X_test.shape[0]))\n",
        "# Visualization\n",
        "print(\"{:15}||{:5}||{}\".format(\"Word\", \"Actual\", \"Predicted\"))\n",
        "print(30 * \"=\")\n",
        "for w, t, pred in zip(X_test[i], true, p[0]):\n",
        "    if w != 0:\n",
        "        print(\"{:15}: {:5} {}\".format(words[w-2], idx2tag[t], idx2tag[pred]))"
      ],
      "execution_count": 14,
      "outputs": [
        {
          "output_type": "stream",
          "text": [
            "Sample number 1426 of 4796 (Test Set)\n",
            "Word           ||Actual||Predicted\n",
            "==============================\n",
            "The            : O     O\n",
            "incoming       : O     O\n",
            "administration : O     O\n",
            "of             : O     O\n",
            "U.S.           : B-geo B-org\n",
            "President-elect: B-per I-org\n",
            "Barack         : I-per I-org\n",
            "Obama          : I-per B-per\n",
            "is             : O     O\n",
            "assembling     : O     O\n",
            "a              : O     O\n",
            "team           : O     O\n",
            "of             : O     O\n",
            "advisors       : O     O\n",
            "and            : O     O\n",
            "staffers       : O     O\n",
            ",              : O     O\n",
            "most           : O     O\n",
            "of             : O     O\n",
            "whom           : O     O\n",
            "worked         : O     O\n",
            "for            : O     O\n",
            "the            : O     O\n",
            "last           : O     O\n",
            "Democratic     : O     B-org\n",
            "administration : O     O\n",
            "under          : O     O\n",
            "former         : O     O\n",
            "President      : B-per B-per\n",
            "Bill           : I-per I-per\n",
            "Clinton        : I-per I-per\n",
            ".              : O     O\n"
          ],
          "name": "stdout"
        }
      ]
    },
    {
      "cell_type": "markdown",
      "metadata": {
        "id": "aVugUoZWktxp"
      },
      "source": [
        "## Test model on sample sentences\n",
        "\n"
      ]
    },
    {
      "cell_type": "code",
      "metadata": {
        "colab": {
          "base_uri": "https://localhost:8080/",
          "height": 381,
          "referenced_widgets": [
            "bca62821b0c143729e4d67ce8f45d915",
            "949809761aed41f19de9a6621321b808",
            "8a94014437e94517822f33e6ae157e41",
            "2861c6025e8d49eda0cfb1db9ae8081c",
            "3c371cbe921c4a59af1fa94b166a0298",
            "b16c29d0ebbf4b428c3fc524eeb4d633",
            "221d9c2f00ba46a588d3720214f09134",
            "ae2fab1ac08f49a1bdfb46faf47eecd4",
            "f80dfb662b494b8cb75f2c10c61b678d",
            "814432bea9004df2854cc7960bc91ef5"
          ]
        },
        "id": "8jlRD4HMktxp",
        "outputId": "347ba76d-1bed-4039-86af-53c9ad88e1b8"
      },
      "source": [
        "def tokenize(s) : # Custom Tokenizer\n",
        "\n",
        "    tokenizer=RegexpTokenizer(r'\\w+') \n",
        "    return tokenizer.tokenize(s)\n",
        "\n",
        "def get_prediction(sentence):\n",
        "    test_sentence = tokenize(sentence) # Tokenization\n",
        "    # Preprocessing\n",
        "    x_test_sent = pad_sequences(sequences=[[word2idx.get(w, 0) for w in test_sentence]],\n",
        "                            padding=\"post\", value=word2idx[\"PAD\"], maxlen=MAX_LEN)\n",
        "    # Evaluation\n",
        "    p = model.predict(np.array([x_test_sent[0]]))\n",
        "    p = np.argmax(p, axis=-1)\n",
        "    # Visualization\n",
        "    print(\"{:15}||{}\".format(\"Word\", \"Prediction\"))\n",
        "    print(30 * \"=\")\n",
        "    all=list ()\n",
        "    for w, pred in zip(test_sentence, p[0]):\n",
        "        print(\"{:15}: {:5}\".format(w, idx2tag[pred]))\n",
        "    #     all.append([w,idx2tag[pred]])\n",
        "    # return all\n",
        "\n",
        "interact_manual(get_prediction, sentence=widgets.Textarea(placeholder='Type your sentence here'));"
      ],
      "execution_count": 15,
      "outputs": [
        {
          "output_type": "display_data",
          "data": {
            "application/vnd.jupyter.widget-view+json": {
              "model_id": "bca62821b0c143729e4d67ce8f45d915",
              "version_minor": 0,
              "version_major": 2
            },
            "text/plain": [
              "aW50ZXJhY3RpdmUoY2hpbGRyZW49KFRleHRhcmVhKHZhbHVlPXUnJywgZGVzY3JpcHRpb249dSdzZW50ZW5jZScsIHBsYWNlaG9sZGVyPXUnVHlwZSB5b3VyIHNlbnRlbmNlIGhlcmUnKSwgQnXigKY=\n"
            ]
          },
          "metadata": {
            "tags": []
          }
        }
      ]
    },
    {
      "cell_type": "code",
      "metadata": {
        "colab": {
          "base_uri": "https://localhost:8080/"
        },
        "id": "kGLczJ2FuG65",
        "outputId": "4be0420a-0371-4f1e-f171-c571eb6e47d0"
      },
      "source": [
        "a=get_prediction(\"PTCL is the worst organization\")\r\n",
        "print(a)"
      ],
      "execution_count": 16,
      "outputs": [
        {
          "output_type": "stream",
          "text": [
            "Word           ||Prediction\n",
            "==============================\n",
            "PTCL           : B-org\n",
            "is             : O    \n",
            "the            : O    \n",
            "worst          : O    \n",
            "organization   : O    \n",
            "None\n"
          ],
          "name": "stdout"
        }
      ]
    },
    {
      "cell_type": "markdown",
      "metadata": {
        "id": "FCPqilVzktxp"
      },
      "source": [
        "## Save the model"
      ]
    },
    {
      "cell_type": "code",
      "metadata": {
        "id": "EH1ynhaAktxp"
      },
      "source": [
        "\n",
        "# Saving Vocab\n",
        "with open('models/word_to_index.pickle', 'wb') as f:\n",
        "    pickle.dump(word2idx, f, protocol=pickle.HIGHEST_PROTOCOL)\n",
        " \n",
        "# Saving Vocab\n",
        "with open('models/tag_to_index.pickle', 'wb') as f:\n",
        "    pickle.dump(tag2idx, f, protocol=pickle.HIGHEST_PROTOCOL)\n",
        "    \n",
        "# Saving Model Weight\n",
        "model.save_weights('models/lstm_crf_weights.h5')"
      ],
      "execution_count": 17,
      "outputs": []
    }
  ]
}