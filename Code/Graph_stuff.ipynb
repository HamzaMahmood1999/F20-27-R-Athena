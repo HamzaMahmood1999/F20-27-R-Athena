{
 "cells": [
  {
   "cell_type": "markdown",
   "metadata": {},
   "source": [
    "# File Description"
   ]
  },
  {
   "cell_type": "markdown",
   "metadata": {},
   "source": [
    "##### In this file, we will be tackling with the Graph exportation. In other words, the SVO's, Pickles, and CSV's we made were in a non user friendly format. This file is where we upload them to the Graph Database and make them visually beautiful as well as semantically understandable. "
   ]
  },
  {
   "cell_type": "markdown",
   "metadata": {},
   "source": [
    "## Installation of Libraries"
   ]
  },
  {
   "cell_type": "markdown",
   "metadata": {},
   "source": [
    "##### In this section, we will be installing the much needed libraries. The primary library in this regard will be py2neo. Please note that py2neo will allow the user to add, remove, manipulate their graph database however, there is a precondition to using Py2neo. This precondition is that you must have Neo4j desktop running on your computer. Not only should it be running but you also need to have a running DBMS connected to a network or to your local network. "
   ]
  },
  {
   "cell_type": "code",
   "execution_count": 1,
   "metadata": {},
   "outputs": [
    {
     "name": "stdout",
     "output_type": "stream",
     "text": [
      "Collecting py2neo\n",
      "  Downloading py2neo-2021.0.1-py2.py3-none-any.whl (195 kB)\n",
      "\u001b[K     |████████████████████████████████| 195 kB 395 kB/s eta 0:00:01\n",
      "\u001b[?25hRequirement already satisfied, skipping upgrade: packaging in /Users/azfarbakht/opt/anaconda3/lib/python3.7/site-packages (from py2neo) (19.2)\n",
      "Requirement already satisfied, skipping upgrade: pytz in /Users/azfarbakht/opt/anaconda3/lib/python3.7/site-packages (from py2neo) (2019.3)\n",
      "Collecting english\n",
      "  Downloading english-2020.7.0-py2.py3-none-any.whl (8.1 kB)\n",
      "Collecting neotime~=1.7.4\n",
      "  Downloading neotime-1.7.4.tar.gz (17 kB)\n",
      "Collecting monotonic\n",
      "  Downloading monotonic-1.6-py2.py3-none-any.whl (8.2 kB)\n",
      "Requirement already satisfied, skipping upgrade: pygments>=2.0.0 in /Users/azfarbakht/opt/anaconda3/lib/python3.7/site-packages (from py2neo) (2.4.2)\n",
      "Requirement already satisfied, skipping upgrade: cryptography in /Users/azfarbakht/opt/anaconda3/lib/python3.7/site-packages (from py2neo) (2.7)\n",
      "Requirement already satisfied, skipping upgrade: certifi in /Users/azfarbakht/opt/anaconda3/lib/python3.7/site-packages (from py2neo) (2019.9.11)\n",
      "Collecting six>=1.15.0\n",
      "  Using cached six-1.15.0-py2.py3-none-any.whl (10 kB)\n",
      "Collecting pansi>=2020.7.3\n",
      "  Downloading pansi-2020.7.3-py2.py3-none-any.whl (10 kB)\n",
      "Collecting docker\n",
      "  Downloading docker-5.0.0-py2.py3-none-any.whl (146 kB)\n",
      "\u001b[K     |████████████████████████████████| 146 kB 612 kB/s eta 0:00:01\n",
      "\u001b[?25hRequirement already satisfied, skipping upgrade: prompt-toolkit~=2.0.7 in /Users/azfarbakht/opt/anaconda3/lib/python3.7/site-packages (from py2neo) (2.0.10)\n",
      "Requirement already satisfied, skipping upgrade: urllib3 in /Users/azfarbakht/opt/anaconda3/lib/python3.7/site-packages (from py2neo) (1.24.2)\n",
      "Requirement already satisfied, skipping upgrade: pyparsing>=2.0.2 in /Users/azfarbakht/opt/anaconda3/lib/python3.7/site-packages (from packaging->py2neo) (2.4.2)\n",
      "Requirement already satisfied, skipping upgrade: asn1crypto>=0.21.0 in /Users/azfarbakht/opt/anaconda3/lib/python3.7/site-packages (from cryptography->py2neo) (1.0.1)\n",
      "Requirement already satisfied, skipping upgrade: cffi!=1.11.3,>=1.8 in /Users/azfarbakht/opt/anaconda3/lib/python3.7/site-packages (from cryptography->py2neo) (1.12.3)\n",
      "Collecting websocket-client>=0.32.0\n",
      "  Downloading websocket_client-0.58.0-py2.py3-none-any.whl (61 kB)\n",
      "\u001b[K     |████████████████████████████████| 61 kB 793 kB/s eta 0:00:01\n",
      "\u001b[?25hRequirement already satisfied, skipping upgrade: requests!=2.18.0,>=2.14.2 in /Users/azfarbakht/opt/anaconda3/lib/python3.7/site-packages (from docker->py2neo) (2.22.0)\n",
      "Requirement already satisfied, skipping upgrade: wcwidth in /Users/azfarbakht/opt/anaconda3/lib/python3.7/site-packages (from prompt-toolkit~=2.0.7->py2neo) (0.1.7)\n",
      "Requirement already satisfied, skipping upgrade: pycparser in /Users/azfarbakht/opt/anaconda3/lib/python3.7/site-packages (from cffi!=1.11.3,>=1.8->cryptography->py2neo) (2.19)\n",
      "Requirement already satisfied, skipping upgrade: chardet<3.1.0,>=3.0.2 in /Users/azfarbakht/opt/anaconda3/lib/python3.7/site-packages (from requests!=2.18.0,>=2.14.2->docker->py2neo) (3.0.4)\n",
      "Requirement already satisfied, skipping upgrade: idna<2.9,>=2.5 in /Users/azfarbakht/opt/anaconda3/lib/python3.7/site-packages (from requests!=2.18.0,>=2.14.2->docker->py2neo) (2.8)\n",
      "Building wheels for collected packages: neotime\n",
      "  Building wheel for neotime (setup.py) ... \u001b[?25ldone\n",
      "\u001b[?25h  Created wheel for neotime: filename=neotime-1.7.4-py3-none-any.whl size=20541 sha256=bcc97de1fd1dc52be9e579a36acc3cbaf264ddcf808e9f922e666ad984cad47e\n",
      "  Stored in directory: /Users/azfarbakht/Library/Caches/pip/wheels/1b/53/64/de72baae858a94a3ed2c6b1117edf988b2b8d57b798097e5b3\n",
      "Successfully built neotime\n",
      "Installing collected packages: six, english, neotime, monotonic, pansi, websocket-client, docker, py2neo\n",
      "  Attempting uninstall: six\n",
      "    Found existing installation: six 1.12.0\n",
      "    Uninstalling six-1.12.0:\n",
      "      Successfully uninstalled six-1.12.0\n",
      "\u001b[31mERROR: After October 2020 you may experience errors when installing or updating packages. This is because pip will change the way that it resolves dependency conflicts.\n",
      "\n",
      "We recommend you use --use-feature=2020-resolver to test your packages with the new resolver before it becomes the default.\n",
      "\n",
      "astroid 2.3.1 requires typed-ast<1.5,>=1.4.0; implementation_name == \"cpython\" and python_version < \"3.8\", which is not installed.\n",
      "astroid 2.3.1 requires six==1.12, but you'll have six 1.15.0 which is incompatible.\u001b[0m\n",
      "Successfully installed docker-5.0.0 english-2020.7.0 monotonic-1.6 neotime-1.7.4 pansi-2020.7.3 py2neo-2021.0.1 six-1.15.0 websocket-client-0.58.0\n",
      "\u001b[33mWARNING: You are using pip version 20.2.3; however, version 21.0.1 is available.\n",
      "You should consider upgrading via the '/Users/azfarbakht/opt/anaconda3/bin/python -m pip install --upgrade pip' command.\u001b[0m\n",
      "Collecting ipython\n",
      "  Downloading ipython-7.22.0-py3-none-any.whl (785 kB)\n",
      "\u001b[K     |████████████████████████████████| 785 kB 506 kB/s eta 0:00:01\n",
      "\u001b[?25hRequirement already satisfied, skipping upgrade: backcall in /Users/azfarbakht/opt/anaconda3/lib/python3.7/site-packages (from ipython) (0.1.0)\n",
      "Collecting jedi>=0.16\n",
      "  Downloading jedi-0.18.0-py2.py3-none-any.whl (1.4 MB)\n",
      "\u001b[K     |████████████████████████████████| 1.4 MB 507 kB/s eta 0:00:01\n",
      "\u001b[?25hRequirement already satisfied, skipping upgrade: pexpect>4.3; sys_platform != \"win32\" in /Users/azfarbakht/opt/anaconda3/lib/python3.7/site-packages (from ipython) (4.7.0)\n",
      "Requirement already satisfied, skipping upgrade: pickleshare in /Users/azfarbakht/opt/anaconda3/lib/python3.7/site-packages (from ipython) (0.7.5)\n",
      "Requirement already satisfied, skipping upgrade: pygments in /Users/azfarbakht/opt/anaconda3/lib/python3.7/site-packages (from ipython) (2.4.2)\n",
      "Requirement already satisfied, skipping upgrade: appnope; sys_platform == \"darwin\" in /Users/azfarbakht/opt/anaconda3/lib/python3.7/site-packages (from ipython) (0.1.0)\n",
      "Requirement already satisfied, skipping upgrade: traitlets>=4.2 in /Users/azfarbakht/opt/anaconda3/lib/python3.7/site-packages (from ipython) (4.3.3)\n",
      "Requirement already satisfied, skipping upgrade: prompt-toolkit!=3.0.0,!=3.0.1,<3.1.0,>=2.0.0 in /Users/azfarbakht/opt/anaconda3/lib/python3.7/site-packages (from ipython) (2.0.10)\n",
      "Requirement already satisfied, skipping upgrade: setuptools>=18.5 in /Users/azfarbakht/opt/anaconda3/lib/python3.7/site-packages (from ipython) (46.1.3)\n",
      "Requirement already satisfied, skipping upgrade: decorator in /Users/azfarbakht/opt/anaconda3/lib/python3.7/site-packages (from ipython) (4.4.0)\n",
      "Collecting parso<0.9.0,>=0.8.0\n",
      "  Downloading parso-0.8.2-py2.py3-none-any.whl (94 kB)\n",
      "\u001b[K     |████████████████████████████████| 94 kB 354 kB/s eta 0:00:01\n",
      "\u001b[?25hRequirement already satisfied, skipping upgrade: ptyprocess>=0.5 in /Users/azfarbakht/opt/anaconda3/lib/python3.7/site-packages (from pexpect>4.3; sys_platform != \"win32\"->ipython) (0.6.0)\n",
      "Requirement already satisfied, skipping upgrade: six in /Users/azfarbakht/opt/anaconda3/lib/python3.7/site-packages (from traitlets>=4.2->ipython) (1.15.0)\n",
      "Requirement already satisfied, skipping upgrade: ipython-genutils in /Users/azfarbakht/opt/anaconda3/lib/python3.7/site-packages (from traitlets>=4.2->ipython) (0.2.0)\n",
      "Requirement already satisfied, skipping upgrade: wcwidth in /Users/azfarbakht/opt/anaconda3/lib/python3.7/site-packages (from prompt-toolkit!=3.0.0,!=3.0.1,<3.1.0,>=2.0.0->ipython) (0.1.7)\n",
      "Installing collected packages: parso, jedi, ipython\n",
      "  Attempting uninstall: parso\n",
      "    Found existing installation: parso 0.5.1\n",
      "    Uninstalling parso-0.5.1:\n",
      "      Successfully uninstalled parso-0.5.1\n",
      "  Attempting uninstall: jedi\n",
      "    Found existing installation: jedi 0.15.1\n",
      "    Uninstalling jedi-0.15.1:\n",
      "      Successfully uninstalled jedi-0.15.1\n",
      "  Attempting uninstall: ipython\n",
      "    Found existing installation: ipython 7.8.0\n",
      "    Uninstalling ipython-7.8.0:\n",
      "      Successfully uninstalled ipython-7.8.0\n",
      "\u001b[31mERROR: After October 2020 you may experience errors when installing or updating packages. This is because pip will change the way that it resolves dependency conflicts.\n",
      "\n",
      "We recommend you use --use-feature=2020-resolver to test your packages with the new resolver before it becomes the default.\n",
      "\n",
      "spyder 3.3.6 requires pyqt5<5.13; python_version >= \"3\", which is not installed.\n",
      "spyder 3.3.6 requires pyqtwebengine<5.13; python_version >= \"3\", which is not installed.\u001b[0m\n",
      "Successfully installed ipython-7.22.0 jedi-0.18.0 parso-0.8.2\n"
     ]
    },
    {
     "name": "stdout",
     "output_type": "stream",
     "text": [
      "\u001b[33mWARNING: You are using pip version 20.2.3; however, version 21.0.1 is available.\r\n",
      "You should consider upgrading via the '/Users/azfarbakht/opt/anaconda3/bin/python -m pip install --upgrade pip' command.\u001b[0m\r\n"
     ]
    }
   ],
   "source": [
    "!pip install --upgrade py2neo\n",
    "!pip install -U ipython"
   ]
  },
  {
   "cell_type": "markdown",
   "metadata": {},
   "source": [
    "## Code Implementation"
   ]
  },
  {
   "cell_type": "markdown",
   "metadata": {},
   "source": [
    "##### The code implementation of the last part is relatively simple. We Read the pickle and CSV files, use their contents to create nodes and edges, and puload them to the database. "
   ]
  },
  {
   "cell_type": "code",
   "execution_count": 8,
   "metadata": {},
   "outputs": [],
   "source": [
    "from py2neo import Graph\n",
    "from py2neo import Node, Relationship\n",
    "import pickle\n",
    "import pandas as pd"
   ]
  },
  {
   "cell_type": "code",
   "execution_count": 9,
   "metadata": {},
   "outputs": [],
   "source": [
    "svos = pd.read_csv(\"../Files/svos.csv\", names = ['sub', 'rel', 'obj'])\n",
    "pickle_in = open(\"..//Files/entity_dict.pickle\",\"rb\")\n",
    "entities = pickle.load(pickle_in)"
   ]
  },
  {
   "cell_type": "code",
   "execution_count": 11,
   "metadata": {},
   "outputs": [],
   "source": [
    "# Connect to Neo4j using corresponding <port:7687> and <password>\n",
    "\n",
    "graph = Graph(\"bolt://localhost:7687\",auth=(\"neo4j\", \"1234\"))\n",
    "\n",
    "graph.delete_all()\n",
    "\n",
    "# Parse the entities and build the knowledge graph in Neo4j Database\n",
    "for index, row in svos.iterrows():\n",
    "    sub, rel, obj = row\n",
    "    sub_node = graph.nodes.match(entities.get(sub, \"Object\"), name=sub).first()\n",
    "    obj_node = graph.nodes.match(\"Object\", name=obj1).first()\n",
    "    if not sub_node:\n",
    "        sub_node = Node(entities.get(sub, \"Object\"),name = sub)\n",
    "    if not obj_node:\n",
    "        obj_node = Node(entities.get(obj1, \"Object\"),name = obj)\n",
    "    relation = Relationship.type(rel)    \n",
    "    graph.merge(relation(sub_node, obj_node), entities.get(sub, \"Object\"), \"name\" )"
   ]
  },
  {
   "cell_type": "markdown",
   "metadata": {},
   "source": [
    "###### What's next? Now the data has succesfully been uploaded to the Graph Database and can be queries using Neo4j's robust language Cypher. You can also view the entire network on the Neo4j Desktop client if you'd like. "
   ]
  }
 ],
 "metadata": {
  "kernelspec": {
   "display_name": "Python 3",
   "language": "python",
   "name": "python3"
  },
  "language_info": {
   "codemirror_mode": {
    "name": "ipython",
    "version": 3
   },
   "file_extension": ".py",
   "mimetype": "text/x-python",
   "name": "python",
   "nbconvert_exporter": "python",
   "pygments_lexer": "ipython3",
   "version": "3.7.4"
  }
 },
 "nbformat": 4,
 "nbformat_minor": 2
}
