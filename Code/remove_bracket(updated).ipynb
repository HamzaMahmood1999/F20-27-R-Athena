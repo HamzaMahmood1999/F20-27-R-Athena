{
  "nbformat": 4,
  "nbformat_minor": 0,
  "metadata": {
    "colab": {
      "name": "remove_bracket(updated).ipynb",
      "provenance": [],
      "collapsed_sections": []
    },
    "kernelspec": {
      "name": "python3",
      "display_name": "Python 3"
    },
    "language_info": {
      "name": "python"
    }
  },
  "cells": [
    {
      "cell_type": "code",
      "metadata": {
        "id": "kBv8r7KL2LCt"
      },
      "source": [
        "import pandas as pd\n",
        "import numpy as np\n",
        "import csv"
      ],
      "execution_count": 3,
      "outputs": []
    },
    {
      "cell_type": "code",
      "metadata": {
        "id": "xHFZ0xQb34WU"
      },
      "source": [
        "df = pd.read_csv(r'svos.csv',header=None)\n",
        "dataset=df.to_numpy()"
      ],
      "execution_count": 4,
      "outputs": []
    },
    {
      "cell_type": "code",
      "metadata": {
        "id": "floE7Efk5Iz1"
      },
      "source": [
        "i=0\n",
        "j=0\n",
        "l1=list ()\n",
        "\n",
        "for i in range(0,len(dataset)):\n",
        "  l2=list ()\n",
        "  for j in range(0,len(dataset[j])):\n",
        "    x=dataset[i][j].replace('[','')\n",
        "    y=x.replace(']','')\n",
        "    z=y.replace(',','')\n",
        "    l2.append(z)\n",
        "  l1.append(l2)\n",
        "\n",
        "# print(l1)"
      ],
      "execution_count": 5,
      "outputs": []
    },
    {
      "cell_type": "code",
      "metadata": {
        "id": "tgnl0iA-BCOg"
      },
      "source": [
        "with open('output_svos.csv', 'w', newline='') as file:\n",
        "    writer = csv.writer(file)\n",
        "    writer.writerows(l1)"
      ],
      "execution_count": 6,
      "outputs": []
    }
  ]
}