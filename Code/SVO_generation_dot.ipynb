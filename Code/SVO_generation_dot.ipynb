{
 "cells": [
  {
   "cell_type": "markdown",
   "metadata": {},
   "source": [
    "# File Description"
   ]
  },
  {
   "cell_type": "markdown",
   "metadata": {},
   "source": [
    "##### In this file, we are performing the representation of Entities and their Relationships in the elaborate format of SVO. SVO is short for \"Subject Verb Object\" where the relationship between two entities is defined as their verb. Please note that once we have succesfully extracted the Subject Verb and Object from the Unstructured text file, we will store them in a CSV file. This file will later be used to generate a queryable graph. Each entity i.e. the subjects and the Objeccts will serve as undividual nodes of the graph whereas the Verbs will serve as relationships. "
   ]
  },
  {
   "cell_type": "markdown",
   "metadata": {},
   "source": [
    "## Installation and Upgradation "
   ]
  },
  {
   "cell_type": "markdown",
   "metadata": {},
   "source": [
    "##### Please note that the Installation and Upgradation part of the file refers to textaxy and spacy. In our previous file we discussed how Neural coref requires a lower version of Spacy. However in this file, we will be updating the values of Spacy because \"en_core_web\" as well as Textacy require newer versions. "
   ]
  },
  {
   "cell_type": "code",
   "execution_count": null,
   "metadata": {},
   "outputs": [],
   "source": [
    "! pip install textacy\n",
    "! pip install --upgrade spacy\n",
    "! python -m spacy download en_core_web_sm"
   ]
  },
  {
   "cell_type": "markdown",
   "metadata": {},
   "source": [
    "## Code"
   ]
  },
  {
   "cell_type": "code",
   "execution_count": null,
   "metadata": {},
   "outputs": [],
   "source": [
    "import spacy\n",
    "import textacy\n",
    "from textacy.extract import subject_verb_object_triples\n",
    "from bs4 import BeautifulSoup\n",
    "import requests\n",
    "import re\n",
    "import os"
   ]
  },
  {
   "cell_type": "code",
   "execution_count": null,
   "metadata": {},
   "outputs": [],
   "source": [
    "data_dir ='' \n",
    "TEXTS = [open('Preprocessed_PTCL.txt').read()]"
   ]
  },
  {
   "cell_type": "markdown",
   "metadata": {},
   "source": [
    "##### This part of the code, extracts entities as well as relationships from the codebase. The next step in the process is to align them in the form of Subjects Verbs and Objects, SVOs. This step also avoids repetition of same entities in the form of Graphs by creating a frequency dictionary. "
   ]
  },
  {
   "cell_type": "code",
   "execution_count": null,
   "metadata": {},
   "outputs": [],
   "source": [
    "nlp = spacy.load('en_core_web_sm')\n",
    "final_svos = []\n",
    "final_text_svos = []\n",
    "entity_dict = {}\n",
    "svo_labels = []\n",
    "for i, text in enumerate(TEXTS):\n",
    "    doc = nlp(text)\n",
    "    for ent in doc.ents:\n",
    "        if ent not in entity_dict.keys():\n",
    "            entity_dict[str(ent)] = ent.label_\n",
    "            #print(ent.label)       \n",
    "    svos = list(subject_verb_object_triples(doc))\n",
    "    #print(svos, \"/n\")\n",
    "    #svos = subject_verb_object_triples(doc)\n",
    "    svos_text = [(str(x[0]).strip(), str(x[1]).strip(), str(x[2]).strip()) for x in svos]\n",
    "    print(svos_text)\n",
    "    final_svos = final_svos + svos\n",
    "    final_text_svos = final_text_svos + svos_text\n",
    "\n",
    "for svo in final_text_svos:\n",
    "    tup = ['Object', 'Object']\n",
    "    if(svo[0] in entity_dict.keys()):\n",
    "        tup[0] = entity_dict[svo[0]]\n",
    "    \n",
    "    if(svo[2] in entity_dict.keys()):\n",
    "        tup[1] = entity_dict[svo[2]]\n",
    "    svo_labels.append(tuple(tup))\n"
   ]
  },
  {
   "cell_type": "code",
   "execution_count": null,
   "metadata": {},
   "outputs": [],
   "source": [
    "final_text_svos"
   ]
  },
  {
   "cell_type": "code",
   "execution_count": null,
   "metadata": {},
   "outputs": [],
   "source": [
    "\n",
    "# Write all the SVOs as a CSV file\n",
    "\n",
    "import csv\n",
    "\n",
    "with open('svos.csv', 'w') as csvFile:\n",
    "    writer = csv.writer(csvFile)\n",
    "    writer.writerows(final_text_svos)\n",
    "\n",
    "csvFile.close()"
   ]
  },
  {
   "cell_type": "code",
   "execution_count": null,
   "metadata": {},
   "outputs": [],
   "source": [
    "svo_labels"
   ]
  },
  {
   "cell_type": "markdown",
   "metadata": {},
   "source": [
    "##### The frequency dictionary which was refered to in the previous comment will now be conserved in the form of a pickle file. In the end, we'il also generate a dot file to save the graph. "
   ]
  },
  {
   "cell_type": "code",
   "execution_count": null,
   "metadata": {},
   "outputs": [],
   "source": [
    "# Save the entity type dictionary using pickle\n",
    "\n",
    "import pickle\n",
    "with open('entity_dict.pickle', 'wb') as handle:\n",
    "    pickle.dump(entity_dict, handle, protocol=pickle.HIGHEST_PROTOCOL)"
   ]
  },
  {
   "cell_type": "code",
   "execution_count": null,
   "metadata": {},
   "outputs": [],
   "source": [
    "# Visualize the KG using Graphviz\n",
    "\n",
    "def generate_graphviz_graph(entity_relations, name, verbose=True):\n",
    "    \"\"\"digraph G {\n",
    "    # a -> b [ label=\"a to b\" ];\n",
    "    # b -> c [ label=\"another label\"];\n",
    "    }\"\"\"\n",
    "    graph = list()\n",
    "    graph.append('digraph {')\n",
    "    for er in entity_relations:\n",
    "        graph.append('\"{}\" -> \"{}\" [ label=\"{}\" ];'.format(er[0], er[2], er[1]))\n",
    "    graph.append('}')\n",
    "\n",
    "    out_dot = name + '.dot'\n",
    "    with open(out_dot, 'w') as output_file:\n",
    "        output_file.writelines(graph)\n",
    "\n",
    "    out_png = name + '.png'\n",
    "    DOT_BIN_PATH = 'dot'\n",
    "    command = \"dot -Tpng {} -o {}\".format(out_dot, out_png)\n",
    " \n",
    "    os.system(command)\n",
    "\n",
    "    print('Wrote graph to {} and {}'.format(out_dot, out_png))\n"
   ]
  },
  {
   "cell_type": "code",
   "execution_count": null,
   "metadata": {},
   "outputs": [],
   "source": [
    "generate_graphviz_graph(final_text_svos,\" name\")"
   ]
  }
 ],
 "metadata": {
  "kernelspec": {
   "display_name": "Python 3",
   "language": "python",
   "name": "python3"
  },
  "language_info": {
   "codemirror_mode": {
    "name": "ipython",
    "version": 3
   },
   "file_extension": ".py",
   "mimetype": "text/x-python",
   "name": "python",
   "nbconvert_exporter": "python",
   "pygments_lexer": "ipython3",
   "version": "3.7.4"
  }
 },
 "nbformat": 4,
 "nbformat_minor": 2
}
