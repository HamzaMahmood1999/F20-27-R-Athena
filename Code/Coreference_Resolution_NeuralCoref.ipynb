{
 "cells": [
  {
   "cell_type": "markdown",
   "metadata": {},
   "source": [
    "# File Description"
   ]
  },
  {
   "cell_type": "markdown",
   "metadata": {},
   "source": [
    "##### This file is being created to perform the Neural Coreferencing of any given text. The Method used here is through a state of the art model called Neural Coreference Resolution or Neuralcoref by Hugging Face (NY). Please note that Neural Coref isn't compatible with the latest version of Spacy. This caused problems for us as the rest of our project relies on the latest version of Spacy to function. Our solution to that problem was attempting coreference on Spacy an old but compatible version of Spacy and then later, updating that version to the latest available. "
   ]
  },
  {
   "cell_type": "markdown",
   "metadata": {},
   "source": [
    "## Installation of Files"
   ]
  },
  {
   "cell_type": "code",
   "execution_count": null,
   "metadata": {},
   "outputs": [],
   "source": [
    "!pip uninstall spacy\n",
    "!pip install --upgrade spacy==2.1.0\n",
    "!pip install neuralcoref\n",
    "!pip install urllib3=='1.25.4'\n",
    "!python -m spacy download en_core_web_sm"
   ]
  },
  {
   "cell_type": "markdown",
   "metadata": {},
   "source": [
    "## Implementation of Code"
   ]
  },
  {
   "cell_type": "markdown",
   "metadata": {},
   "source": [
    "##### In the following shell, we'll be defining a function that will perform neural coreferencing resolution on our given text. It will take a string as input and return a coreferenced string as output. The results of this function have been manually tested using the website, text-compare"
   ]
  },
  {
   "cell_type": "code",
   "execution_count": null,
   "metadata": {},
   "outputs": [],
   "source": [
    "import spacy\n",
    "import neuralcoref\n",
    "\n",
    "# Load SpaCy\n",
    "nlp = spacy.load('en_core_web_sm')\n",
    "# Add neural coref to SpaCy's pipe\n",
    "neuralcoref.add_to_pipe(nlp)\n",
    "\n",
    "def coref_resolution(text):\n",
    "    \"\"\"Function that executes coreference resolution on a given text\"\"\"\n",
    "    doc = nlp(text)\n",
    "    # fetches tokens with whitespaces from spacy document\n",
    "    tok_list = list(token.text_with_ws for token in doc)\n",
    "    for cluster in doc._.coref_clusters:\n",
    "        # get tokens from representative cluster name\n",
    "        cluster_main_words = set(cluster.main.text.split(' '))\n",
    "        for coref in cluster:\n",
    "            if coref != cluster.main:  # if coreference element is not the representative element of that cluster\n",
    "                if coref.text != cluster.main.text and bool(set(coref.text.split(' ')).intersection(cluster_main_words)) == False:\n",
    "                    # if coreference element text and representative element text are not equal and none of the coreference element words are in representative element. This was done to handle nested coreference scenarios\n",
    "                    tok_list[coref.start] = cluster.main.text + \\\n",
    "                        doc[coref.end-1].whitespace_\n",
    "                    for i in range(coref.start+1, coref.end):\n",
    "                        tok_list[i] = \"\"\n",
    "\n",
    "    return \"\".join(tok_list)"
   ]
  },
  {
   "cell_type": "markdown",
   "metadata": {},
   "source": [
    "##### Execution of function as well as generation of a clean preprocessed file. For our demonstration, we will name this file the \"Preprocessed PTCL\" file, however the names of the file may also be passed by reference as arguments to the file in the future."
   ]
  },
  {
   "cell_type": "code",
   "execution_count": null,
   "metadata": {},
   "outputs": [],
   "source": [
    "f = open(\"/content/PTCL.txt\", \"r\")\n",
    "sentence=f.read()\n",
    "# sentence=\"PTCL is the national telecommunication company in Pakistan. It provides telephone and internet services nationwide and is the backbone for the country's telecommunication infrastructure despite the arrival of a dozen other telecommunication corporations, including Telenor GSM and China Mobile. \"\n",
    "store_text=coref_resolution(sentence)\n",
    "f = open(\"Preprocessed_PTCL.txt\", \"a\")\n",
    "f.write(store_text)\n",
    "f.close()"
   ]
  }
 ],
 "metadata": {
  "kernelspec": {
   "display_name": "Python 3",
   "language": "python",
   "name": "python3"
  },
  "language_info": {
   "codemirror_mode": {
    "name": "ipython",
    "version": 3
   },
   "file_extension": ".py",
   "mimetype": "text/x-python",
   "name": "python",
   "nbconvert_exporter": "python",
   "pygments_lexer": "ipython3",
   "version": "3.7.4"
  }
 },
 "nbformat": 4,
 "nbformat_minor": 2
}
